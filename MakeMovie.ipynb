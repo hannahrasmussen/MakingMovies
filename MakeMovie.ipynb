{
 "cells": [
  {
   "cell_type": "code",
   "execution_count": 1,
   "metadata": {},
   "outputs": [],
   "source": [
    "%matplotlib inline\n",
    "import numpy as np\n",
    "import matplotlib.pyplot as plt\n",
    "import numba as nb\n",
    "from matplotlib import animation\n",
    "import os\n",
    "\n",
    "from nu_nu_coll import nu_nu_collisions as coll\n",
    "from BasicCode import basic_code as trunc\n",
    "from MakeMovie import movie_support_functions as mv\n",
    "from CollisionApprox import Collision_approx as ca\n",
    "\n",
    "#I think this is pretty old code that was ultimately turned into MakeMovie.py"
   ]
  },
  {
   "cell_type": "code",
   "execution_count": 2,
   "metadata": {},
   "outputs": [],
   "source": [
    "def make_file_list(folder_name,max_files=200,Tmin = 0.0001):\n",
    "    output = []\n",
    "    for i in range(max_files):\n",
    "        test_name = folder_name + '/full-' + str(i)\n",
    "        try:\n",
    "            y_g = np.load(test_name + \"-y.npy\")\n",
    "            if (y_g[-2][0] > Tmin):\n",
    "                output.append(test_name)\n",
    "            else:\n",
    "                break\n",
    "        except:\n",
    "            break\n",
    "    for i in range(max_files):\n",
    "        test_name = folder_name + '/full_cont_new-' + str(i)\n",
    "        try:\n",
    "            y_g = np.load(test_name + \"-y.npy\")\n",
    "            if (y_g[-2][0] > Tmin):\n",
    "                output.append(test_name)\n",
    "            else:\n",
    "                break\n",
    "        except:\n",
    "            break\n",
    "    return output\n",
    "\n",
    "def make_aye(run_file):\n",
    "    a_g = np.load(run_file + \"-a.npy\")\n",
    "    y_g = np.load(run_file + \"-y.npy\")\n",
    "    e_g = np.load(run_file + \"-e.npy\")\n",
    "    \n",
    "    y_vals = np.zeros((len(a_g),len(y_g)-3))\n",
    "    t_vals = np.zeros(len(a_g))\n",
    "    T_vals = np.zeros(len(a_g))\n",
    "    \n",
    "    for i in range(len(a_g)):\n",
    "        t_vals[i] = y_g[-1][i]\n",
    "        T_vals[i] = y_g[-2][i]\n",
    "        for j in range(len(y_g)-3):\n",
    "            y_vals[i][j] = y_g[j][i]\n",
    "    \n",
    "    return a_g, y_vals, e_g, T_vals, t_vals, y_g"
   ]
  },
  {
   "cell_type": "code",
   "execution_count": 3,
   "metadata": {},
   "outputs": [],
   "source": [
    "def create_data_arrays(ms,mixangle,rates=False):\n",
    "    folder = \"../{}-{:.4}-FullTestNew/{}-{:.4}-FullTestNew\".format(ms,mixangle,ms,mixangle)\n",
    "    files = make_file_list(folder)\n",
    "    \n",
    "    a = []\n",
    "    y = []\n",
    "    e = []\n",
    "    T = []\n",
    "    t = []\n",
    "    ym =[]\n",
    "    Num_steps = 1\n",
    "    max_y_dim = 1\n",
    "    for i in range(len(files)):\n",
    "        av,yv,ev,Tv,tv,ymv = make_aye(files[i])\n",
    "        a.append(av)\n",
    "        y.append(yv)\n",
    "        e.append(ev)\n",
    "        T.append(Tv)\n",
    "        t.append(tv)\n",
    "        ym.append(ymv)\n",
    "        Num_steps += len(av) -1\n",
    "        max_y_dim = max(max_y_dim, len(yv[0]))\n",
    "    a_tot = np.zeros(Num_steps)\n",
    "    y_tot = np.zeros((Num_steps,max_y_dim))\n",
    "    e_tot = np.zeros((Num_steps,max_y_dim))\n",
    "    T_tot = np.zeros(Num_steps)\n",
    "    t_tot = np.zeros(Num_steps)\n",
    "    y_mat = np.zeros((max_y_dim+3,Num_steps))\n",
    "    \n",
    "    a_tot[0] = a[0][0]\n",
    "    T_tot[0] = T[0][0]\n",
    "    t_tot[0] = t[0][0]\n",
    "\n",
    "    for i in range(len(y[0][0])):\n",
    "        y_tot[0][i] = y[0][0][i]\n",
    "        y_mat[i][0] = y[0][0][i]\n",
    "        e_tot[0][i] = e[0][i]\n",
    "        \n",
    "    y_mat[-1][0] = t_tot[0]\n",
    "    y_mat[-2][0] = T_tot[0]\n",
    "\n",
    "    k = 1\n",
    "    for i in range(len(files)):\n",
    "        print(files[i])\n",
    "        for j in range(1,len(a[i])):\n",
    "            a_tot[k] = a[i][j]\n",
    "            T_tot[k] = T[i][j]\n",
    "            t_tot[k] = t[i][j]\n",
    "            y_mat[-1][k] = t_tot[k]\n",
    "            y_mat[-2][k] = T_tot[k]\n",
    "\n",
    "            for ii in range(len(e[i])):\n",
    "                e_tot[k][ii] = e[i][ii]\n",
    "\n",
    "            for ii in range(len(y[i][j])):\n",
    "                y_tot[k][ii] = y[i][j][ii]\n",
    "                y_mat[ii][k] = y[i][j][ii]\n",
    "            k += 1\n",
    "            \n",
    "    if rates:\n",
    "        d_tot = np.zeros((Num_steps,max_y_dim+3))\n",
    "        c_tot = np.zeros((Num_steps,max_y_dim))\n",
    "        k = 1\n",
    "        for i in range(len(files)):\n",
    "            len_e = len(np.where(e_tot[k-1] > 0)[0])+1\n",
    "            A_model, n_model = ca.model_An(a_tot[k-1], T_tot[k-1], 1/(0.9 * a_tot[k-1] * T_tot[k-1]))\n",
    "            print(T_tot[k-1], 1/a_tot[k-1], A_model, n_model)\n",
    "            fn = mv.make_collision_fn(ms,mixangle,e_tot[k-1][:len_e],A_model,n_model)\n",
    "            for j in range(1,len(a[i])):\n",
    "                y_temp = np.zeros(len_e+3)\n",
    "                y_temp[:len_e] = y_tot[k,:len_e]\n",
    "                y_temp[-2] = T_tot[k]\n",
    "                y_temp[-1] = t_tot[k]\n",
    "                d, c = fn(a_tot[k],y_temp)\n",
    "                d_tot[k,:len_e+3] = d\n",
    "                c_tot[k,:len_e] = c\n",
    "                k += 1\n",
    "        np.savez(folder+'/movie-arrays',a=a_tot, y=y_tot, e=e_tot, T=T_tot, t=t_tot, ym=y_mat, d=d_tot, c=c_tot)\n",
    "        return a_tot, y_tot, e_tot, T_tot, t_tot, y_mat, d_tot, c_tot\n",
    "    else:\n",
    "        return a_tot, y_tot, e_tot, T_tot, t_tot, y_mat"
   ]
  },
  {
   "cell_type": "code",
   "execution_count": 4,
   "metadata": {},
   "outputs": [],
   "source": [
    "def make_video(mH,mixangle,mv_fn=\"decay_collision.mp4\"):\n",
    "    fn = \"../{}-{:.4}-FullTestNew/{}-{:.4}-FullTestNew\".format(mH,mixangle,mH,mixangle)\n",
    "    movie_file_name = fn + '/' + mv_fn\n",
    "    \n",
    "    if not os.path.isfile(fn+'/movie-arrays.npz'):\n",
    "        print(\"Need to create data arrays.  Will take a few minutes.\")\n",
    "        create_data_arrays(mH,mixangle,True)\n",
    "    arrs = np.load(fn+'/movie-arrays.npz')\n",
    "    \n",
    "    hbar = 6.58212e-22\n",
    "    tH = trunc.tH(mH,mixangle)*hbar\n",
    "    \n",
    "\n",
    "    fig = plt.figure(figsize=(10,8))\n",
    "    ax1 = plt.axes([0.09,0.1,0.415,0.42])\n",
    "    ax0 = plt.axes([0.09,0.52,0.415,0.42])\n",
    "    ax2 = plt.axes([0.65,0.25,0.3,0.5])\n",
    "#    ics, = ax0.loglog([], [], linewidth=2, linestyle='--',color='0.50')\n",
    "#    e_thermal, = ax0.loglog([], [], linewidth=2, linestyle='--',color='0.75')\n",
    "    nu, = ax0.loglog([], [], linewidth=3, color='b')\n",
    "    ax0.set_ylim([1e-10,10])\n",
    "    ax0.set_yticks([1e-9,1e-6,1e-3,1e0])\n",
    "    ax0.set_xlim([0.5,3000])\n",
    "    ax1.set_xlim([0.5,3000])\n",
    "    ax0.set_ylabel(r\"$\\epsilon^3 \\, f(\\epsilon)$\")\n",
    "    ax0.set_title(\"{} MeV, {:.3} s decay lifetime\".format(mH,tH))\n",
    "    ax0.xaxis.set_major_formatter(plt.NullFormatter())\n",
    "    \n",
    "    d_rate, = ax1.loglog([], [], linewidth=2, color='k')\n",
    "    c_ratep, = ax1.loglog([], [], linewidth=2, color='k', linestyle='--')\n",
    "    c_ratem, = ax1.loglog([], [], linewidth=2, color='r', linestyle='--')\n",
    "#    cel_ratep, = ax1.loglog([], [], linewidth=2, color='k', linestyle=':')\n",
    "#    cel_ratem, = ax1.loglog([], [], linewidth=2, color='r', linestyle=':')\n",
    "    ax1.set_ylim([1e-25,1e4])\n",
    "    ax1.set_yticks([1e-25,1e-20,1e-15,1e-10,1e-5,1e0])\n",
    "    ax1.set_xlabel(r\"$\\epsilon = E_\\nu / T_{cm}$\")\n",
    "    ax1.set_ylabel(r\"Rate ($df/da$)\")\n",
    "\n",
    "    ax2.set_xlim(15,.015)\n",
    "    ax2.set_ylim(.0015,15)\n",
    "    ax2.set_ylabel(r\"$T$ (MeV)\")\n",
    "    ax2.set_xlabel(r\"$T_{cm}$ (MeV)\")\n",
    "    temp_temp, = ax2.loglog([], [], linewidth=2, color = 'k')\n",
    "    diag, = ax2.loglog([], [], color='0.75', linestyle=':')\n",
    "    time_text = ax2.text(10,3e-3,\"\",fontsize=12)\n",
    "    \n",
    "    \n",
    "    def init():\n",
    "#        ics.set_data([], [])\n",
    "#        e_thermal.set_data([], [])\n",
    "        nu.set_data([], [])\n",
    "        d_rate.set_data([], [])\n",
    "        c_ratep.set_data([], [])\n",
    "        c_ratem.set_data([], [])\n",
    "#        cel_ratep.set_data([],[])\n",
    "#        cel_ratem.set_data([],[])\n",
    "        temp_temp.set_data([],[])\n",
    "        diag.set_data([],[])\n",
    "        time_text.set_text(\"\")\n",
    "        return nu, d_rate, c_ratep, c_ratem, time_text, temp_temp, diag\n",
    "#        return ics, e_thermal, nu, d_rate, c_ratep, c_ratem, cel_ratep, cel_ratem, time_text, temp_temp, diag\n",
    "    \n",
    "    def animate(i):\n",
    "        e_vec = arrs['e'][i,:]\n",
    "        y_vec = arrs['y'][i,:]\n",
    "        d_vec = arrs['d'][i,:]\n",
    "        c_vec = arrs['c'][i,:]\n",
    "        T = arrs['T'][i]\n",
    "        t = arrs['t'][i]\n",
    "        a = arrs['a'][i]\n",
    "        a_vec = arrs['a'][:(i+1)]\n",
    "        T_vec = arrs['T'][:(i+1)]\n",
    "        len_e = len(np.where(e_vec > 0)[0])+1\n",
    "\n",
    "        eps = e_vec[:len_e]\n",
    "        yv = y_vec[:len_e]\n",
    "        d = d_vec[:len_e]\n",
    "        c = c_vec[:len_e]\n",
    "\n",
    "#        ics.set_data(eps,eps**3 / (np.exp(eps) + 1) / (2 * np.pi**3))\n",
    "#        e_thermal.set_data(eps, eps**3 / (np.exp(eps / T[i] / a[i]) +1) / (2 * np.pi**3))\n",
    "        nu.set_data(eps, eps**3 * yv / (2 * np.pi**3))\n",
    "        d_rate.set_data(eps,d)\n",
    "        c_ratep.set_data(eps,c)\n",
    "        c_ratem.set_data(eps,-c)\n",
    "#        cel_ratep.set_data(e[i][:-1],cel[i][:-1])\n",
    "#        cel_ratem.set_data(e[i][:-1],-cel[i][:-1])\n",
    "        time_text.set_text(r\"$T = $\"+\"{:8.3} MeV\".format(T) + '\\n\\n' + \"$T_{cm} = $\"+\"{:8.3} MeV\".format(1/a) + '\\n' + \"t = {:10.3} s\".format(t * hbar))\n",
    "        temp_temp.set_data(1/a_vec,T_vec)\n",
    "        diag.set_data(np.linspace(0.001,20),np.linspace(0.001,20))\n",
    "        \n",
    "        return nu, d_rate, c_ratep, c_ratem, time_text, temp_temp, diag\n",
    "#        return ics, e_thermal, nu, d_rate, c_ratep, c_ratem, cel_ratep, cel_ratem, time_text, temp_temp, diag\n",
    "    \n",
    "    anim = animation.FuncAnimation(fig, animate, init_func = init, frames = len(arrs['a']), interval = 1, blit=True)\n",
    "    \n",
    "    anim.save(fn)\n",
    "\n"
   ]
  },
  {
   "cell_type": "code",
   "execution_count": 5,
   "metadata": {},
   "outputs": [
    {
     "name": "stdout",
     "output_type": "stream",
     "text": [
      "300-7e-05-FullTestNew/full-0\n",
      "300-7e-05-FullTestNew/full-1\n",
      "300-7e-05-FullTestNew/full-2\n",
      "300-7e-05-FullTestNew/full-3\n",
      "300-7e-05-FullTestNew/full-4\n",
      "300-7e-05-FullTestNew/full-5\n",
      "300-7e-05-FullTestNew/full-6\n",
      "300-7e-05-FullTestNew/full_cont_new-0\n",
      "300-7e-05-FullTestNew/full_cont_new-1\n",
      "300-7e-05-FullTestNew/full_cont_new-2\n",
      "300-7e-05-FullTestNew/full_cont_new-3\n",
      "300-7e-05-FullTestNew/full_cont_new-4\n",
      "300-7e-05-FullTestNew/full_cont_new-5\n",
      "300-7e-05-FullTestNew/full_cont_new-6\n",
      "300-7e-05-FullTestNew/full_cont_new-7\n",
      "300-7e-05-FullTestNew/full_cont_new-8\n",
      "300-7e-05-FullTestNew/full_cont_new-9\n",
      "300-7e-05-FullTestNew/full_cont_new-10\n",
      "300-7e-05-FullTestNew/full_cont_new-11\n",
      "300-7e-05-FullTestNew/full_cont_new-12\n",
      "14.873650530203944 14.871507118843985 0.9672986084490427 0.9435265362248363\n",
      "7.665882146711377 7.435753559421992 0.9699557072211505 0.945079973506341\n",
      "6.04532821980879 5.71092698412379 0.9722090549518582 0.9464761867422375\n",
      "5.27607495959055 4.886983499386997 0.9738351326334174 0.9475083715334308\n",
      "4.632077421760021 4.202558614460373 0.9754716687960647 0.9487054677188136\n",
      "4.027133039172466 3.5745289264054336 0.9771076666913288 0.9500425805143915\n",
      "3.4719014284059044 3.021793310407839 0.9783425876268319 0.9517709769639221\n",
      "2.9261189008415114 2.5083598846287933 0.9789090429781464 0.9540089492359168\n",
      "2.278794306185728 1.935766249832453 0.9781002975818628 0.957725830246517\n",
      "1.144475297689682 0.9678831249162265 0.9667882872074963 0.982239676003983\n",
      "0.5981362155654553 0.5 0.9297777598538574 1.049767425185491\n",
      "0.3111093611881991 0.25 0.8271559095730193 1.1929971010402696\n",
      "0.17078019684473308 0.125 0.6485784216668254 1.3774688413910596\n",
      "0.09694946183829775 0.0625 0.43733434829133616 1.5481674894098243\n",
      "0.05140898947149468 0.03125 0.24456113600112928 1.6910444071447195\n",
      "0.025760911596063193 0.015625 0.11888913829167017 1.7678592548213496\n",
      "0.012880462354424332 0.0078125 0.08222677497151624 1.5835499034274505\n",
      "0.006440231177212206 0.00390625 -0.06500795093168435 0.6294489770105101\n",
      "0.0032201155886061044 0.001953125 -0.6297198527791577 2.45384199394044\n"
     ]
    },
    {
     "name": "stderr",
     "output_type": "stream",
     "text": [
      "/Users/nu_mu/anaconda3/lib/python3.7/site-packages/scipy/optimize/minpack.py:787: OptimizeWarning: Covariance of the parameters could not be estimated\n",
      "  category=OptimizeWarning)\n"
     ]
    },
    {
     "name": "stdout",
     "output_type": "stream",
     "text": [
      "0.001610057794303052 0.0009765625 -0.4243257710234434 2.2828039123386077\n",
      "CPU times: user 1h 12min 27s, sys: 19min 12s, total: 1h 31min 39s\n",
      "Wall time: 9min 44s\n"
     ]
    }
   ],
   "source": [
    "%time a, y, e, T, t, ym, d, c = create_data_arrays(300,7e-5,True)"
   ]
  },
  {
   "cell_type": "code",
   "execution_count": 6,
   "metadata": {},
   "outputs": [
    {
     "ename": "ValueError",
     "evalue": "Invalid file object: <_io.BufferedReader name=69>",
     "output_type": "error",
     "traceback": [
      "\u001b[0;31m---------------------------------------------------------------------------\u001b[0m",
      "\u001b[0;31mValueError\u001b[0m                                Traceback (most recent call last)",
      "\u001b[0;32m<ipython-input-6-fcd062a7595c>\u001b[0m in \u001b[0;36m<module>\u001b[0;34m\u001b[0m\n\u001b[0;32m----> 1\u001b[0;31m \u001b[0mmake_video\u001b[0m\u001b[0;34m(\u001b[0m\u001b[0;36m300\u001b[0m\u001b[0;34m,\u001b[0m\u001b[0;36m1.35e-5\u001b[0m\u001b[0;34m,\u001b[0m\u001b[0;34m\"decay_video.mp4\"\u001b[0m\u001b[0;34m)\u001b[0m\u001b[0;34m\u001b[0m\u001b[0;34m\u001b[0m\u001b[0m\n\u001b[0m",
      "\u001b[0;32m<ipython-input-4-852fa6843213>\u001b[0m in \u001b[0;36mmake_video\u001b[0;34m(mH, mixangle, mv_fn)\u001b[0m\n\u001b[1;32m     95\u001b[0m     \u001b[0manim\u001b[0m \u001b[0;34m=\u001b[0m \u001b[0manimation\u001b[0m\u001b[0;34m.\u001b[0m\u001b[0mFuncAnimation\u001b[0m\u001b[0;34m(\u001b[0m\u001b[0mfig\u001b[0m\u001b[0;34m,\u001b[0m \u001b[0manimate\u001b[0m\u001b[0;34m,\u001b[0m \u001b[0minit_func\u001b[0m \u001b[0;34m=\u001b[0m \u001b[0minit\u001b[0m\u001b[0;34m,\u001b[0m \u001b[0mframes\u001b[0m \u001b[0;34m=\u001b[0m \u001b[0mlen\u001b[0m\u001b[0;34m(\u001b[0m\u001b[0marrs\u001b[0m\u001b[0;34m[\u001b[0m\u001b[0;34m'a'\u001b[0m\u001b[0;34m]\u001b[0m\u001b[0;34m)\u001b[0m\u001b[0;34m,\u001b[0m \u001b[0minterval\u001b[0m \u001b[0;34m=\u001b[0m \u001b[0;36m1\u001b[0m\u001b[0;34m,\u001b[0m \u001b[0mblit\u001b[0m\u001b[0;34m=\u001b[0m\u001b[0;32mTrue\u001b[0m\u001b[0;34m)\u001b[0m\u001b[0;34m\u001b[0m\u001b[0;34m\u001b[0m\u001b[0m\n\u001b[1;32m     96\u001b[0m \u001b[0;34m\u001b[0m\u001b[0m\n\u001b[0;32m---> 97\u001b[0;31m     \u001b[0manim\u001b[0m\u001b[0;34m.\u001b[0m\u001b[0msave\u001b[0m\u001b[0;34m(\u001b[0m\u001b[0mfn\u001b[0m\u001b[0;34m)\u001b[0m\u001b[0;34m\u001b[0m\u001b[0;34m\u001b[0m\u001b[0m\n\u001b[0m\u001b[1;32m     98\u001b[0m \u001b[0;34m\u001b[0m\u001b[0m\n",
      "\u001b[0;32m~/anaconda3/lib/python3.7/site-packages/matplotlib/animation.py\u001b[0m in \u001b[0;36msave\u001b[0;34m(self, filename, writer, fps, dpi, codec, bitrate, extra_args, metadata, extra_anim, savefig_kwargs)\u001b[0m\n\u001b[1;32m   1172\u001b[0m                         \u001b[0;31m# TODO: See if turning off blit is really necessary\u001b[0m\u001b[0;34m\u001b[0m\u001b[0;34m\u001b[0m\u001b[0;34m\u001b[0m\u001b[0m\n\u001b[1;32m   1173\u001b[0m                         \u001b[0manim\u001b[0m\u001b[0;34m.\u001b[0m\u001b[0m_draw_next_frame\u001b[0m\u001b[0;34m(\u001b[0m\u001b[0md\u001b[0m\u001b[0;34m,\u001b[0m \u001b[0mblit\u001b[0m\u001b[0;34m=\u001b[0m\u001b[0;32mFalse\u001b[0m\u001b[0;34m)\u001b[0m\u001b[0;34m\u001b[0m\u001b[0;34m\u001b[0m\u001b[0m\n\u001b[0;32m-> 1174\u001b[0;31m                     \u001b[0mwriter\u001b[0m\u001b[0;34m.\u001b[0m\u001b[0mgrab_frame\u001b[0m\u001b[0;34m(\u001b[0m\u001b[0;34m**\u001b[0m\u001b[0msavefig_kwargs\u001b[0m\u001b[0;34m)\u001b[0m\u001b[0;34m\u001b[0m\u001b[0;34m\u001b[0m\u001b[0m\n\u001b[0m\u001b[1;32m   1175\u001b[0m \u001b[0;34m\u001b[0m\u001b[0m\n\u001b[1;32m   1176\u001b[0m         \u001b[0;31m# Reconnect signal for first draw if necessary\u001b[0m\u001b[0;34m\u001b[0m\u001b[0;34m\u001b[0m\u001b[0;34m\u001b[0m\u001b[0m\n",
      "\u001b[0;32m~/anaconda3/lib/python3.7/contextlib.py\u001b[0m in \u001b[0;36m__exit__\u001b[0;34m(self, type, value, traceback)\u001b[0m\n\u001b[1;32m    128\u001b[0m                 \u001b[0mvalue\u001b[0m \u001b[0;34m=\u001b[0m \u001b[0mtype\u001b[0m\u001b[0;34m(\u001b[0m\u001b[0;34m)\u001b[0m\u001b[0;34m\u001b[0m\u001b[0;34m\u001b[0m\u001b[0m\n\u001b[1;32m    129\u001b[0m             \u001b[0;32mtry\u001b[0m\u001b[0;34m:\u001b[0m\u001b[0;34m\u001b[0m\u001b[0;34m\u001b[0m\u001b[0m\n\u001b[0;32m--> 130\u001b[0;31m                 \u001b[0mself\u001b[0m\u001b[0;34m.\u001b[0m\u001b[0mgen\u001b[0m\u001b[0;34m.\u001b[0m\u001b[0mthrow\u001b[0m\u001b[0;34m(\u001b[0m\u001b[0mtype\u001b[0m\u001b[0;34m,\u001b[0m \u001b[0mvalue\u001b[0m\u001b[0;34m,\u001b[0m \u001b[0mtraceback\u001b[0m\u001b[0;34m)\u001b[0m\u001b[0;34m\u001b[0m\u001b[0;34m\u001b[0m\u001b[0m\n\u001b[0m\u001b[1;32m    131\u001b[0m             \u001b[0;32mexcept\u001b[0m \u001b[0mStopIteration\u001b[0m \u001b[0;32mas\u001b[0m \u001b[0mexc\u001b[0m\u001b[0;34m:\u001b[0m\u001b[0;34m\u001b[0m\u001b[0;34m\u001b[0m\u001b[0m\n\u001b[1;32m    132\u001b[0m                 \u001b[0;31m# Suppress StopIteration *unless* it's the same exception that\u001b[0m\u001b[0;34m\u001b[0m\u001b[0;34m\u001b[0m\u001b[0;34m\u001b[0m\u001b[0m\n",
      "\u001b[0;32m~/anaconda3/lib/python3.7/site-packages/matplotlib/animation.py\u001b[0m in \u001b[0;36msaving\u001b[0;34m(self, fig, outfile, dpi, *args, **kwargs)\u001b[0m\n\u001b[1;32m    230\u001b[0m             \u001b[0;32myield\u001b[0m \u001b[0mself\u001b[0m\u001b[0;34m\u001b[0m\u001b[0;34m\u001b[0m\u001b[0m\n\u001b[1;32m    231\u001b[0m         \u001b[0;32mfinally\u001b[0m\u001b[0;34m:\u001b[0m\u001b[0;34m\u001b[0m\u001b[0;34m\u001b[0m\u001b[0m\n\u001b[0;32m--> 232\u001b[0;31m             \u001b[0mself\u001b[0m\u001b[0;34m.\u001b[0m\u001b[0mfinish\u001b[0m\u001b[0;34m(\u001b[0m\u001b[0;34m)\u001b[0m\u001b[0;34m\u001b[0m\u001b[0;34m\u001b[0m\u001b[0m\n\u001b[0m\u001b[1;32m    233\u001b[0m \u001b[0;34m\u001b[0m\u001b[0m\n\u001b[1;32m    234\u001b[0m \u001b[0;34m\u001b[0m\u001b[0m\n",
      "\u001b[0;32m~/anaconda3/lib/python3.7/site-packages/matplotlib/animation.py\u001b[0m in \u001b[0;36mfinish\u001b[0;34m(self)\u001b[0m\n\u001b[1;32m    356\u001b[0m     \u001b[0;32mdef\u001b[0m \u001b[0mfinish\u001b[0m\u001b[0;34m(\u001b[0m\u001b[0mself\u001b[0m\u001b[0;34m)\u001b[0m\u001b[0;34m:\u001b[0m\u001b[0;34m\u001b[0m\u001b[0;34m\u001b[0m\u001b[0m\n\u001b[1;32m    357\u001b[0m         \u001b[0;34m'''Finish any processing for writing the movie.'''\u001b[0m\u001b[0;34m\u001b[0m\u001b[0;34m\u001b[0m\u001b[0m\n\u001b[0;32m--> 358\u001b[0;31m         \u001b[0mself\u001b[0m\u001b[0;34m.\u001b[0m\u001b[0mcleanup\u001b[0m\u001b[0;34m(\u001b[0m\u001b[0;34m)\u001b[0m\u001b[0;34m\u001b[0m\u001b[0;34m\u001b[0m\u001b[0m\n\u001b[0m\u001b[1;32m    359\u001b[0m \u001b[0;34m\u001b[0m\u001b[0m\n\u001b[1;32m    360\u001b[0m     \u001b[0;32mdef\u001b[0m \u001b[0mgrab_frame\u001b[0m\u001b[0;34m(\u001b[0m\u001b[0mself\u001b[0m\u001b[0;34m,\u001b[0m \u001b[0;34m**\u001b[0m\u001b[0msavefig_kwargs\u001b[0m\u001b[0;34m)\u001b[0m\u001b[0;34m:\u001b[0m\u001b[0;34m\u001b[0m\u001b[0;34m\u001b[0m\u001b[0m\n",
      "\u001b[0;32m~/anaconda3/lib/python3.7/site-packages/matplotlib/animation.py\u001b[0m in \u001b[0;36mcleanup\u001b[0;34m(self)\u001b[0m\n\u001b[1;32m    393\u001b[0m     \u001b[0;32mdef\u001b[0m \u001b[0mcleanup\u001b[0m\u001b[0;34m(\u001b[0m\u001b[0mself\u001b[0m\u001b[0;34m)\u001b[0m\u001b[0;34m:\u001b[0m\u001b[0;34m\u001b[0m\u001b[0;34m\u001b[0m\u001b[0m\n\u001b[1;32m    394\u001b[0m         \u001b[0;34m'''Clean-up and collect the process used to write the movie file.'''\u001b[0m\u001b[0;34m\u001b[0m\u001b[0;34m\u001b[0m\u001b[0m\n\u001b[0;32m--> 395\u001b[0;31m         \u001b[0mout\u001b[0m\u001b[0;34m,\u001b[0m \u001b[0merr\u001b[0m \u001b[0;34m=\u001b[0m \u001b[0mself\u001b[0m\u001b[0;34m.\u001b[0m\u001b[0m_proc\u001b[0m\u001b[0;34m.\u001b[0m\u001b[0mcommunicate\u001b[0m\u001b[0;34m(\u001b[0m\u001b[0;34m)\u001b[0m\u001b[0;34m\u001b[0m\u001b[0;34m\u001b[0m\u001b[0m\n\u001b[0m\u001b[1;32m    396\u001b[0m         \u001b[0mself\u001b[0m\u001b[0;34m.\u001b[0m\u001b[0m_frame_sink\u001b[0m\u001b[0;34m(\u001b[0m\u001b[0;34m)\u001b[0m\u001b[0;34m.\u001b[0m\u001b[0mclose\u001b[0m\u001b[0;34m(\u001b[0m\u001b[0;34m)\u001b[0m\u001b[0;34m\u001b[0m\u001b[0;34m\u001b[0m\u001b[0m\n\u001b[1;32m    397\u001b[0m         \u001b[0m_log\u001b[0m\u001b[0;34m.\u001b[0m\u001b[0mdebug\u001b[0m\u001b[0;34m(\u001b[0m\u001b[0;34m'MovieWriter -- Command stdout:\\n%s'\u001b[0m\u001b[0;34m,\u001b[0m \u001b[0mout\u001b[0m\u001b[0;34m)\u001b[0m\u001b[0;34m\u001b[0m\u001b[0;34m\u001b[0m\u001b[0m\n",
      "\u001b[0;32m~/anaconda3/lib/python3.7/subprocess.py\u001b[0m in \u001b[0;36mcommunicate\u001b[0;34m(self, input, timeout)\u001b[0m\n\u001b[1;32m    937\u001b[0m \u001b[0;34m\u001b[0m\u001b[0m\n\u001b[1;32m    938\u001b[0m             \u001b[0;32mtry\u001b[0m\u001b[0;34m:\u001b[0m\u001b[0;34m\u001b[0m\u001b[0;34m\u001b[0m\u001b[0m\n\u001b[0;32m--> 939\u001b[0;31m                 \u001b[0mstdout\u001b[0m\u001b[0;34m,\u001b[0m \u001b[0mstderr\u001b[0m \u001b[0;34m=\u001b[0m \u001b[0mself\u001b[0m\u001b[0;34m.\u001b[0m\u001b[0m_communicate\u001b[0m\u001b[0;34m(\u001b[0m\u001b[0minput\u001b[0m\u001b[0;34m,\u001b[0m \u001b[0mendtime\u001b[0m\u001b[0;34m,\u001b[0m \u001b[0mtimeout\u001b[0m\u001b[0;34m)\u001b[0m\u001b[0;34m\u001b[0m\u001b[0;34m\u001b[0m\u001b[0m\n\u001b[0m\u001b[1;32m    940\u001b[0m             \u001b[0;32mexcept\u001b[0m \u001b[0mKeyboardInterrupt\u001b[0m\u001b[0;34m:\u001b[0m\u001b[0;34m\u001b[0m\u001b[0;34m\u001b[0m\u001b[0m\n\u001b[1;32m    941\u001b[0m                 \u001b[0;31m# https://bugs.python.org/issue25942\u001b[0m\u001b[0;34m\u001b[0m\u001b[0;34m\u001b[0m\u001b[0;34m\u001b[0m\u001b[0m\n",
      "\u001b[0;32m~/anaconda3/lib/python3.7/subprocess.py\u001b[0m in \u001b[0;36m_communicate\u001b[0;34m(self, input, endtime, orig_timeout)\u001b[0m\n\u001b[1;32m   1670\u001b[0m                     \u001b[0mselector\u001b[0m\u001b[0;34m.\u001b[0m\u001b[0mregister\u001b[0m\u001b[0;34m(\u001b[0m\u001b[0mself\u001b[0m\u001b[0;34m.\u001b[0m\u001b[0mstdin\u001b[0m\u001b[0;34m,\u001b[0m \u001b[0mselectors\u001b[0m\u001b[0;34m.\u001b[0m\u001b[0mEVENT_WRITE\u001b[0m\u001b[0;34m)\u001b[0m\u001b[0;34m\u001b[0m\u001b[0;34m\u001b[0m\u001b[0m\n\u001b[1;32m   1671\u001b[0m                 \u001b[0;32mif\u001b[0m \u001b[0mself\u001b[0m\u001b[0;34m.\u001b[0m\u001b[0mstdout\u001b[0m\u001b[0;34m:\u001b[0m\u001b[0;34m\u001b[0m\u001b[0;34m\u001b[0m\u001b[0m\n\u001b[0;32m-> 1672\u001b[0;31m                     \u001b[0mselector\u001b[0m\u001b[0;34m.\u001b[0m\u001b[0mregister\u001b[0m\u001b[0;34m(\u001b[0m\u001b[0mself\u001b[0m\u001b[0;34m.\u001b[0m\u001b[0mstdout\u001b[0m\u001b[0;34m,\u001b[0m \u001b[0mselectors\u001b[0m\u001b[0;34m.\u001b[0m\u001b[0mEVENT_READ\u001b[0m\u001b[0;34m)\u001b[0m\u001b[0;34m\u001b[0m\u001b[0;34m\u001b[0m\u001b[0m\n\u001b[0m\u001b[1;32m   1673\u001b[0m                 \u001b[0;32mif\u001b[0m \u001b[0mself\u001b[0m\u001b[0;34m.\u001b[0m\u001b[0mstderr\u001b[0m\u001b[0;34m:\u001b[0m\u001b[0;34m\u001b[0m\u001b[0;34m\u001b[0m\u001b[0m\n\u001b[1;32m   1674\u001b[0m                     \u001b[0mselector\u001b[0m\u001b[0;34m.\u001b[0m\u001b[0mregister\u001b[0m\u001b[0;34m(\u001b[0m\u001b[0mself\u001b[0m\u001b[0;34m.\u001b[0m\u001b[0mstderr\u001b[0m\u001b[0;34m,\u001b[0m \u001b[0mselectors\u001b[0m\u001b[0;34m.\u001b[0m\u001b[0mEVENT_READ\u001b[0m\u001b[0;34m)\u001b[0m\u001b[0;34m\u001b[0m\u001b[0;34m\u001b[0m\u001b[0m\n",
      "\u001b[0;32m~/anaconda3/lib/python3.7/selectors.py\u001b[0m in \u001b[0;36mregister\u001b[0;34m(self, fileobj, events, data)\u001b[0m\n\u001b[1;32m    350\u001b[0m \u001b[0;34m\u001b[0m\u001b[0m\n\u001b[1;32m    351\u001b[0m     \u001b[0;32mdef\u001b[0m \u001b[0mregister\u001b[0m\u001b[0;34m(\u001b[0m\u001b[0mself\u001b[0m\u001b[0;34m,\u001b[0m \u001b[0mfileobj\u001b[0m\u001b[0;34m,\u001b[0m \u001b[0mevents\u001b[0m\u001b[0;34m,\u001b[0m \u001b[0mdata\u001b[0m\u001b[0;34m=\u001b[0m\u001b[0;32mNone\u001b[0m\u001b[0;34m)\u001b[0m\u001b[0;34m:\u001b[0m\u001b[0;34m\u001b[0m\u001b[0;34m\u001b[0m\u001b[0m\n\u001b[0;32m--> 352\u001b[0;31m         \u001b[0mkey\u001b[0m \u001b[0;34m=\u001b[0m \u001b[0msuper\u001b[0m\u001b[0;34m(\u001b[0m\u001b[0;34m)\u001b[0m\u001b[0;34m.\u001b[0m\u001b[0mregister\u001b[0m\u001b[0;34m(\u001b[0m\u001b[0mfileobj\u001b[0m\u001b[0;34m,\u001b[0m \u001b[0mevents\u001b[0m\u001b[0;34m,\u001b[0m \u001b[0mdata\u001b[0m\u001b[0;34m)\u001b[0m\u001b[0;34m\u001b[0m\u001b[0;34m\u001b[0m\u001b[0m\n\u001b[0m\u001b[1;32m    353\u001b[0m         \u001b[0mpoller_events\u001b[0m \u001b[0;34m=\u001b[0m \u001b[0;36m0\u001b[0m\u001b[0;34m\u001b[0m\u001b[0;34m\u001b[0m\u001b[0m\n\u001b[1;32m    354\u001b[0m         \u001b[0;32mif\u001b[0m \u001b[0mevents\u001b[0m \u001b[0;34m&\u001b[0m \u001b[0mEVENT_READ\u001b[0m\u001b[0;34m:\u001b[0m\u001b[0;34m\u001b[0m\u001b[0;34m\u001b[0m\u001b[0m\n",
      "\u001b[0;32m~/anaconda3/lib/python3.7/selectors.py\u001b[0m in \u001b[0;36mregister\u001b[0;34m(self, fileobj, events, data)\u001b[0m\n\u001b[1;32m    236\u001b[0m             \u001b[0;32mraise\u001b[0m \u001b[0mValueError\u001b[0m\u001b[0;34m(\u001b[0m\u001b[0;34m\"Invalid events: {!r}\"\u001b[0m\u001b[0;34m.\u001b[0m\u001b[0mformat\u001b[0m\u001b[0;34m(\u001b[0m\u001b[0mevents\u001b[0m\u001b[0;34m)\u001b[0m\u001b[0;34m)\u001b[0m\u001b[0;34m\u001b[0m\u001b[0;34m\u001b[0m\u001b[0m\n\u001b[1;32m    237\u001b[0m \u001b[0;34m\u001b[0m\u001b[0m\n\u001b[0;32m--> 238\u001b[0;31m         \u001b[0mkey\u001b[0m \u001b[0;34m=\u001b[0m \u001b[0mSelectorKey\u001b[0m\u001b[0;34m(\u001b[0m\u001b[0mfileobj\u001b[0m\u001b[0;34m,\u001b[0m \u001b[0mself\u001b[0m\u001b[0;34m.\u001b[0m\u001b[0m_fileobj_lookup\u001b[0m\u001b[0;34m(\u001b[0m\u001b[0mfileobj\u001b[0m\u001b[0;34m)\u001b[0m\u001b[0;34m,\u001b[0m \u001b[0mevents\u001b[0m\u001b[0;34m,\u001b[0m \u001b[0mdata\u001b[0m\u001b[0;34m)\u001b[0m\u001b[0;34m\u001b[0m\u001b[0;34m\u001b[0m\u001b[0m\n\u001b[0m\u001b[1;32m    239\u001b[0m \u001b[0;34m\u001b[0m\u001b[0m\n\u001b[1;32m    240\u001b[0m         \u001b[0;32mif\u001b[0m \u001b[0mkey\u001b[0m\u001b[0;34m.\u001b[0m\u001b[0mfd\u001b[0m \u001b[0;32min\u001b[0m \u001b[0mself\u001b[0m\u001b[0;34m.\u001b[0m\u001b[0m_fd_to_key\u001b[0m\u001b[0;34m:\u001b[0m\u001b[0;34m\u001b[0m\u001b[0;34m\u001b[0m\u001b[0m\n",
      "\u001b[0;32m~/anaconda3/lib/python3.7/selectors.py\u001b[0m in \u001b[0;36m_fileobj_lookup\u001b[0;34m(self, fileobj)\u001b[0m\n\u001b[1;32m    223\u001b[0m         \"\"\"\n\u001b[1;32m    224\u001b[0m         \u001b[0;32mtry\u001b[0m\u001b[0;34m:\u001b[0m\u001b[0;34m\u001b[0m\u001b[0;34m\u001b[0m\u001b[0m\n\u001b[0;32m--> 225\u001b[0;31m             \u001b[0;32mreturn\u001b[0m \u001b[0m_fileobj_to_fd\u001b[0m\u001b[0;34m(\u001b[0m\u001b[0mfileobj\u001b[0m\u001b[0;34m)\u001b[0m\u001b[0;34m\u001b[0m\u001b[0;34m\u001b[0m\u001b[0m\n\u001b[0m\u001b[1;32m    226\u001b[0m         \u001b[0;32mexcept\u001b[0m \u001b[0mValueError\u001b[0m\u001b[0;34m:\u001b[0m\u001b[0;34m\u001b[0m\u001b[0;34m\u001b[0m\u001b[0m\n\u001b[1;32m    227\u001b[0m             \u001b[0;31m# Do an exhaustive search.\u001b[0m\u001b[0;34m\u001b[0m\u001b[0;34m\u001b[0m\u001b[0;34m\u001b[0m\u001b[0m\n",
      "\u001b[0;32m~/anaconda3/lib/python3.7/selectors.py\u001b[0m in \u001b[0;36m_fileobj_to_fd\u001b[0;34m(fileobj)\u001b[0m\n\u001b[1;32m     38\u001b[0m         \u001b[0;32mexcept\u001b[0m \u001b[0;34m(\u001b[0m\u001b[0mAttributeError\u001b[0m\u001b[0;34m,\u001b[0m \u001b[0mTypeError\u001b[0m\u001b[0;34m,\u001b[0m \u001b[0mValueError\u001b[0m\u001b[0;34m)\u001b[0m\u001b[0;34m:\u001b[0m\u001b[0;34m\u001b[0m\u001b[0;34m\u001b[0m\u001b[0m\n\u001b[1;32m     39\u001b[0m             raise ValueError(\"Invalid file object: \"\n\u001b[0;32m---> 40\u001b[0;31m                              \"{!r}\".format(fileobj)) from None\n\u001b[0m\u001b[1;32m     41\u001b[0m     \u001b[0;32mif\u001b[0m \u001b[0mfd\u001b[0m \u001b[0;34m<\u001b[0m \u001b[0;36m0\u001b[0m\u001b[0;34m:\u001b[0m\u001b[0;34m\u001b[0m\u001b[0;34m\u001b[0m\u001b[0m\n\u001b[1;32m     42\u001b[0m         \u001b[0;32mraise\u001b[0m \u001b[0mValueError\u001b[0m\u001b[0;34m(\u001b[0m\u001b[0;34m\"Invalid file descriptor: {}\"\u001b[0m\u001b[0;34m.\u001b[0m\u001b[0mformat\u001b[0m\u001b[0;34m(\u001b[0m\u001b[0mfd\u001b[0m\u001b[0;34m)\u001b[0m\u001b[0;34m)\u001b[0m\u001b[0;34m\u001b[0m\u001b[0;34m\u001b[0m\u001b[0m\n",
      "\u001b[0;31mValueError\u001b[0m: Invalid file object: <_io.BufferedReader name=69>"
     ]
    },
    {
     "data": {
      "image/png": "[encoded data removed]",
      "text/plain": [
       "<Figure size 720x576 with 3 Axes>"
      ]
     },
     "metadata": {
      "needs_background": "light"
     },
     "output_type": "display_data"
    }
   ],
   "source": [
    "make_video(300,1.35e-5,\"decay_video.mp4\")"
   ]
  },
  {
   "cell_type": "code",
   "execution_count": null,
   "metadata": {},
   "outputs": [],
   "source": []
  },
  {
   "cell_type": "code",
   "execution_count": null,
   "metadata": {},
   "outputs": [],
   "source": []
  },
  {
   "cell_type": "code",
   "execution_count": null,
   "metadata": {},
   "outputs": [],
   "source": [
    "np.savez('300-7e-05-FullTestNew/movie-arrays',a=a, y=y, e=e, T=T, t=t, ym=ym, d=d, c=c)"
   ]
  },
  {
   "cell_type": "code",
   "execution_count": null,
   "metadata": {},
   "outputs": [],
   "source": [
    "e.shape"
   ]
  },
  {
   "cell_type": "code",
   "execution_count": null,
   "metadata": {},
   "outputs": [],
   "source": []
  },
  {
   "cell_type": "code",
   "execution_count": null,
   "metadata": {},
   "outputs": [],
   "source": []
  },
  {
   "cell_type": "code",
   "execution_count": null,
   "metadata": {},
   "outputs": [],
   "source": []
  },
  {
   "cell_type": "code",
   "execution_count": null,
   "metadata": {},
   "outputs": [],
   "source": []
  },
  {
   "cell_type": "code",
   "execution_count": null,
   "metadata": {},
   "outputs": [],
   "source": [
    "a, y, e, T, t, ym = create_data_arrays(300,7e-5,False)"
   ]
  },
  {
   "cell_type": "code",
   "execution_count": null,
   "metadata": {},
   "outputs": [],
   "source": [
    "a.shape"
   ]
  },
  {
   "cell_type": "code",
   "execution_count": null,
   "metadata": {},
   "outputs": [],
   "source": [
    "len_e = len(np.where(e[10] > 0)[0])+1\n",
    "fn= mv.make_collision_fn(300,7e-5,e[10][:len_e],1,1)\n",
    "y_temp = np.zeros(len_e+3)\n",
    "y_temp[:len_e] = y[10,:len_e]\n",
    "y_temp[-2] = T[10]\n",
    "y_temp[-1] = t[10]\n"
   ]
  },
  {
   "cell_type": "code",
   "execution_count": null,
   "metadata": {},
   "outputs": [],
   "source": [
    "d, c = fn(a[10],y_temp)"
   ]
  },
  {
   "cell_type": "code",
   "execution_count": null,
   "metadata": {},
   "outputs": [],
   "source": [
    "c"
   ]
  },
  {
   "cell_type": "code",
   "execution_count": null,
   "metadata": {},
   "outputs": [],
   "source": [
    "a, y, e, T, t, ym = create_data_arrays(300,10.0,False)"
   ]
  },
  {
   "cell_type": "code",
   "execution_count": null,
   "metadata": {},
   "outputs": [],
   "source": [
    "f_SM = e[-1]**3/(2*np.pi**2) / (np.exp(e[-1]/a[-1] / (T[-1] * (4/11)**(1/3))))\n",
    "plt.figure(figsize=(6,4.5))\n",
    "plt.loglog(e[-1],y[-1]*e[-1]**3/(2*np.pi**2),color='k',linewidth=2)\n",
    "plt.loglog(e[-1],f_SM,linestyle='--')\n",
    "plt.xlabel(r'$\\epsilon = p_\\nu / T_{\\rm cm}$',fontsize=14)\n",
    "plt.ylabel(r'$\\epsilon^3 \\,f(\\epsilon)$',fontsize=14)\n",
    "plt.ylim(1e-6,4)\n",
    "plt.xlim(0.5,250)\n",
    "#plt.savefig('spectrum.pdf')\n",
    "plt.show()"
   ]
  },
  {
   "cell_type": "code",
   "execution_count": null,
   "metadata": {},
   "outputs": [],
   "source": [
    "ma = [4, 6, 7, 8, 0.9, 3, 2, 1.2, 1, 0.8, 1.35, 1.25]\n",
    "ne = [2.7, 2.95, 3.00, 3.02, 4.09, 2.50, 2.58, 3.69, 3.96, 4.31, 2.91, 3.61]"
   ]
  },
  {
   "cell_type": "code",
   "execution_count": null,
   "metadata": {},
   "outputs": [],
   "source": [
    "tau = []\n",
    "for mix in ma:\n",
    "    tau.append(trunc.tH(300,mix*1e-5)*6.58e-22)"
   ]
  },
  {
   "cell_type": "code",
   "execution_count": null,
   "metadata": {},
   "outputs": [],
   "source": [
    "tau"
   ]
  },
  {
   "cell_type": "code",
   "execution_count": null,
   "metadata": {},
   "outputs": [],
   "source": [
    "plt.figure(figsize=(6,4.5))\n",
    "plt.semilogx(tau,ne,'ok')\n",
    "plt.xlabel(r'$\\tau$ (s)',fontsize=14)\n",
    "plt.ylabel(r'$N_{\\rm eff}$',fontsize=14)\n",
    "#plt.savefig('Neff.pdf')\n",
    "plt.show()"
   ]
  },
  {
   "cell_type": "code",
   "execution_count": null,
   "metadata": {},
   "outputs": [],
   "source": [
    "import MakeMovie as mv"
   ]
  },
  {
   "cell_type": "code",
   "execution_count": null,
   "metadata": {},
   "outputs": [],
   "source": [
    "mv.make_video(300,7e-5)"
   ]
  },
  {
   "cell_type": "code",
   "execution_count": null,
   "metadata": {},
   "outputs": [],
   "source": [
    "ma = np.load(\"300-7e-05-FullTestNew/movie-arrays.npz\")"
   ]
  },
  {
   "cell_type": "code",
   "execution_count": null,
   "metadata": {},
   "outputs": [],
   "source": [
    "ma.files"
   ]
  },
  {
   "cell_type": "code",
   "execution_count": null,
   "metadata": {},
   "outputs": [],
   "source": [
    "ma['np_SM']"
   ]
  },
  {
   "cell_type": "code",
   "execution_count": null,
   "metadata": {},
   "outputs": [],
   "source": [
    "ma['np']/ma['np_SM']"
   ]
  },
  {
   "cell_type": "code",
   "execution_count": null,
   "metadata": {},
   "outputs": [],
   "source": []
  }
 ],
 "metadata": {
  "kernelspec": {
   "display_name": "Python 3",
   "language": "python",
   "name": "python3"
  },
  "language_info": {
   "codemirror_mode": {
    "name": "ipython",
    "version": 3
   },
   "file_extension": ".py",
   "mimetype": "text/x-python",
   "name": "python",
   "nbconvert_exporter": "python",
   "pygments_lexer": "ipython3",
   "version": "3.7.10"
  }
 },
 "nbformat": 4,
 "nbformat_minor": 2
}
